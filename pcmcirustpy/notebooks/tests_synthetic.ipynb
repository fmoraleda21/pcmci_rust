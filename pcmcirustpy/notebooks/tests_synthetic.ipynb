{
 "cells": [
  {
   "cell_type": "code",
   "execution_count": null,
   "metadata": {},
   "outputs": [],
   "source": [
    "# # Create Python package from Rust code\n",
    "# maturin develop --release"
   ]
  },
  {
   "cell_type": "code",
   "execution_count": null,
   "metadata": {},
   "outputs": [],
   "source": [
    "%load_ext autoreload\n",
    "%autoreload 2"
   ]
  },
  {
   "cell_type": "code",
   "execution_count": 1,
   "metadata": {},
   "outputs": [],
   "source": [
    "import time\n",
    "import numpy as np\n",
    "\n",
    "from tigramite.data_processing import DataFrame\n",
    "from tigramite.pcmci import PCMCI\n",
    "from tigramite.independence_tests.parcorr import ParCorr\n",
    "\n",
    "import pcmcirustpy"
   ]
  },
  {
   "cell_type": "markdown",
   "metadata": {},
   "source": [
    "# Synthetic data generation"
   ]
  },
  {
   "cell_type": "code",
   "execution_count": null,
   "metadata": {},
   "outputs": [
    {
     "data": {
      "text/plain": [
       "(100100, 20)"
      ]
     },
     "execution_count": 2,
     "metadata": {},
     "output_type": "execute_result"
    }
   ],
   "source": [
    "def generate_synthetic_data(\n",
    "    n_time, n_vars, max_lag, causal_structure, noise_level=0.1, seed=42\n",
    "):\n",
    "    \"\"\"\n",
    "    Generate synthetic time series data with a known time-lagged causal structure.\n",
    "\n",
    "    Parameters:\n",
    "        n_time (int): Number of time steps.\n",
    "        n_vars (int): Number of variables.\n",
    "        max_lag (int): Maximum lag to consider.\n",
    "        causal_structure (dict): Dictionary specifying causal relationships.\n",
    "            Keys are target variable indices, and values are lists of tuples\n",
    "            (source_variable, lag, coefficient).\n",
    "        noise_level (float): Standard deviation of the noise added to each variable.\n",
    "        seed (int, optional): Random seed for reproducibility.\n",
    "\n",
    "    Returns:\n",
    "        np.ndarray: Generated time series data of shape (n_time, n_vars).\n",
    "    \"\"\"\n",
    "    if seed is not None:\n",
    "        np.random.seed(seed)\n",
    "\n",
    "    # Initialize the data array\n",
    "    data = np.zeros((n_time, n_vars))\n",
    "\n",
    "    # Generate initial random values for the first `max_lag` time steps\n",
    "    # Inclusion of Gaussian noise, simulating real-world data variability, for testing the robustness of PCMCI\n",
    "\n",
    "    # Use a burn-in period (e.g., generate additional time steps before the actual data) to allow the system to stabilize and ensure stationarity.\n",
    "    # As stationarity is an assumption of the PCMCI algorithm\n",
    "    burn_in = 100  # Generate extra time steps to stabilize the system\n",
    "    data = np.zeros((n_time + burn_in, n_vars))\n",
    "    data[:max_lag] = np.random.rand(max_lag, n_vars)\n",
    "\n",
    "    # Generate data for subsequent time steps\n",
    "    for t in range(max_lag, n_time):\n",
    "        for target_var in range(n_vars):\n",
    "            # Add contributions from causal parents\n",
    "            value = 0.0\n",
    "            if target_var in causal_structure:\n",
    "                for source_var, lag, coeff in causal_structure[target_var]:\n",
    "                    value += coeff * data[t - lag, source_var]\n",
    "\n",
    "            # Add noise\n",
    "            value += np.random.normal(0, noise_level)\n",
    "            data[t, target_var] = value\n",
    "\n",
    "    return data\n",
    "\n",
    "\n",
    "causal_structure = {\n",
    "    0: [\n",
    "        (1, 1, 0.3), # var1(t-1) -> var0\n",
    "        (2, 1, 0.4), # var2(t-1) -> var0\n",
    "        (3, 2, 0.5), # var3(t-2) -> var0\n",
    "    ],\n",
    "    1: [(2, 1, 0.2)],  # var2(t-1) -> var1\n",
    "    2: [(3, 1, 0.1)],  # var3(t-1) -> var2\n",
    "}\n",
    "max_lag = 2\n",
    "n_vars = 20\n",
    "\n",
    "data = generate_synthetic_data(\n",
    "    n_time=100_000,\n",
    "    n_vars=n_vars,\n",
    "    max_lag=max_lag,\n",
    "    noise_level=0.05,\n",
    "    causal_structure=causal_structure,\n",
    ")\n",
    "\n",
    "data.shape"
   ]
  },
  {
   "cell_type": "markdown",
   "metadata": {},
   "source": [
    "# Test stationarity of each time series"
   ]
  },
  {
   "cell_type": "code",
   "execution_count": 3,
   "metadata": {},
   "outputs": [],
   "source": [
    "# # Test stationarity with Augmented Dickey-Fuller test\n",
    "# from statsmodels.tsa.stattools import adfuller\n",
    "\n",
    "# def test_stationarity(data, alpha=0.05):\n",
    "#     \"\"\"\n",
    "#     Test the stationarity of a time series using the Augmented Dickey-Fuller test.\n",
    "\n",
    "#     Parameters:\n",
    "#         data (np.ndarray): Time series data.\n",
    "#         alpha (float): Significance level for the test.\n",
    "\n",
    "#     Returns:\n",
    "#         bool: True if the series is stationary, False otherwise.\n",
    "#     \"\"\"\n",
    "#     result = adfuller(data)\n",
    "#     p_value = result[1]\n",
    "#     return p_value < alpha\n",
    "\n",
    "# # Test stationarity for each variable in the dataset\n",
    "# stationary_results = []\n",
    "# for i in range(data.shape[1]):\n",
    "#     stationary = test_stationarity(data[:, i])\n",
    "#     stationary_results.append(stationary)\n",
    "# stationary_results"
   ]
  },
  {
   "cell_type": "markdown",
   "metadata": {},
   "source": [
    "# Set common execution parameters"
   ]
  },
  {
   "cell_type": "code",
   "execution_count": 4,
   "metadata": {},
   "outputs": [],
   "source": [
    "alpha = 0.05\n",
    "max_condition_set_size = 3\n",
    "max_subsets = 1"
   ]
  },
  {
   "cell_type": "markdown",
   "metadata": {},
   "source": [
    "# Execute PCMCI with the Tigramite implementation"
   ]
  },
  {
   "cell_type": "code",
   "execution_count": 12,
   "metadata": {},
   "outputs": [
    {
     "name": "stdout",
     "output_type": "stream",
     "text": [
      "Time taken: 61.940051317214966\n"
     ]
    }
   ],
   "source": [
    "# Create a DataFrame object for tigramite.\n",
    "df = DataFrame(data, var_names=[f'var{i}' for i in range(n_vars)])\n",
    "\n",
    "# Set-up the PCMCI object using ParCorr as the conditional independence test.\n",
    "pcmci_obj = PCMCI(dataframe=df, cond_ind_test=ParCorr())\n",
    "\n",
    "# Run PCMCI with the maximum lag provided\n",
    "# max_combinations = 3\n",
    "start = time.time()\n",
    "results = pcmci_obj.run_pcmci(\n",
    "    tau_max=max_lag, \n",
    "    pc_alpha=alpha, \n",
    "    max_conds_dim=max_condition_set_size,\n",
    "    max_combinations=max_subsets\n",
    ")\n",
    "end = time.time()\n",
    "print(\"Time taken:\", end - start)"
   ]
  },
  {
   "cell_type": "code",
   "execution_count": null,
   "metadata": {},
   "outputs": [],
   "source": [
    "# tgplt.plot_time_series_graph(\n",
    "#     figsize=(12, 4),\n",
    "#     val_matrix=results['val_matrix'],\n",
    "#     graph=results['graph'],\n",
    "#     var_names=[f'var_{i}' for i in range(20)],\n",
    "#     link_colorbar_label='MCI',\n",
    "#     label_fontsize=20,\n",
    "#     tick_label_size=20\n",
    "# )"
   ]
  },
  {
   "cell_type": "markdown",
   "metadata": {},
   "source": [
    "# Execute PCMCI with the Rust implementation"
   ]
  },
  {
   "cell_type": "code",
   "execution_count": 21,
   "metadata": {},
   "outputs": [
    {
     "name": "stdout",
     "output_type": "stream",
     "text": [
      "Time taken: 2.530893087387085\n"
     ]
    }
   ],
   "source": [
    "start = time.time()\n",
    "results_rust = pcmcirustpy.run_pcmci(data, max_lag, alpha, max_condition_set_size, max_subsets)\n",
    "end = time.time()\n",
    "print(\"Time taken:\", end - start)"
   ]
  },
  {
   "cell_type": "markdown",
   "metadata": {},
   "source": [
    "# Compare results"
   ]
  },
  {
   "cell_type": "code",
   "execution_count": null,
   "metadata": {},
   "outputs": [],
   "source": [
    "# var1(t-1) -> var0, var2(t-1) -> var0, var3(t-2) -> var0\n",
    "# var2(t-1) -> var1\n",
    "# var3(t-1) -> var2"
   ]
  },
  {
   "cell_type": "code",
   "execution_count": 14,
   "metadata": {},
   "outputs": [
    {
     "name": "stdout",
     "output_type": "stream",
     "text": [
      "0.0 0.0\n"
     ]
    }
   ],
   "source": [
    "print(results[\"p_matrix\"][1,0,1], results_rust[\"p_matrix\"][1,0,1])"
   ]
  },
  {
   "cell_type": "code",
   "execution_count": 15,
   "metadata": {},
   "outputs": [
    {
     "name": "stdout",
     "output_type": "stream",
     "text": [
      "0.284713805921323 0.28478974163690207\n"
     ]
    }
   ],
   "source": [
    "print(results[\"val_matrix\"][1,0,1], results_rust[\"val_matrix\"][1,0,1])"
   ]
  },
  {
   "cell_type": "code",
   "execution_count": 16,
   "metadata": {},
   "outputs": [
    {
     "name": "stdout",
     "output_type": "stream",
     "text": [
      "0.44698031988818565 0.44723973762799\n"
     ]
    }
   ],
   "source": [
    "print(results[\"val_matrix\"][3,0,2], results_rust[\"val_matrix\"][3,0,2])"
   ]
  },
  {
   "cell_type": "code",
   "execution_count": 17,
   "metadata": {},
   "outputs": [
    {
     "name": "stdout",
     "output_type": "stream",
     "text": [
      "0.19401092134493897 0.1939901940577602\n"
     ]
    }
   ],
   "source": [
    "print(results[\"val_matrix\"][2,1,1], results_rust[\"val_matrix\"][2,1,1])"
   ]
  },
  {
   "cell_type": "code",
   "execution_count": 18,
   "metadata": {},
   "outputs": [
    {
     "name": "stdout",
     "output_type": "stream",
     "text": [
      "0.0033654309005284894 nan\n"
     ]
    }
   ],
   "source": [
    "print(results[\"val_matrix\"][4,1,2], results_rust[\"val_matrix\"][4,1,2])"
   ]
  },
  {
   "cell_type": "code",
   "execution_count": 19,
   "metadata": {},
   "outputs": [
    {
     "name": "stdout",
     "output_type": "stream",
     "text": [
      "-0.0034849566118117918 nan\n"
     ]
    }
   ],
   "source": [
    "print(results[\"val_matrix\"][0,2,1], results_rust[\"val_matrix\"][0,2,1])"
   ]
  },
  {
   "cell_type": "code",
   "execution_count": 20,
   "metadata": {},
   "outputs": [
    {
     "name": "stdout",
     "output_type": "stream",
     "text": [
      "0.09760636765845986 0.09768757201039621\n"
     ]
    }
   ],
   "source": [
    "print(results[\"val_matrix\"][3,2,1], results_rust[\"val_matrix\"][3,2,1])"
   ]
  },
  {
   "cell_type": "markdown",
   "metadata": {},
   "source": [
    "# Cross-compilation"
   ]
  },
  {
   "cell_type": "code",
   "execution_count": null,
   "metadata": {},
   "outputs": [],
   "source": [
    "# rustup target add x86_64-unknown-linux-gnu\n",
    "# maturin build --release --target x86_64-unknown-linux-gnu -i python3.10\n",
    "# With <home>/.cargo/config"
   ]
  }
 ],
 "metadata": {
  "kernelspec": {
   "display_name": ".venv",
   "language": "python",
   "name": "python3"
  },
  "language_info": {
   "codemirror_mode": {
    "name": "ipython",
    "version": 3
   },
   "file_extension": ".py",
   "mimetype": "text/x-python",
   "name": "python",
   "nbconvert_exporter": "python",
   "pygments_lexer": "ipython3",
   "version": "3.10.12"
  }
 },
 "nbformat": 4,
 "nbformat_minor": 2
}
