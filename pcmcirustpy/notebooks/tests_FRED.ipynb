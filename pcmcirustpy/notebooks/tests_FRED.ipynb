{
 "cells": [
  {
   "cell_type": "code",
   "execution_count": 1,
   "id": "ac9c157a",
   "metadata": {},
   "outputs": [],
   "source": [
    "# # Create Python package from Rust code\n",
    "# maturin develop --release"
   ]
  },
  {
   "cell_type": "code",
   "execution_count": 2,
   "id": "8968e3c3",
   "metadata": {},
   "outputs": [],
   "source": [
    "%load_ext autoreload\n",
    "%autoreload 2"
   ]
  },
  {
   "cell_type": "code",
   "execution_count": 3,
   "id": "ebbc046a",
   "metadata": {},
   "outputs": [],
   "source": [
    "import numpy as np\n",
    "import pandas as pd\n",
    "import pandas_datareader.data as fred_downloader\n",
    "\n",
    "import pcmcirustpy"
   ]
  },
  {
   "cell_type": "markdown",
   "id": "c9e931ad",
   "metadata": {},
   "source": [
    "# Download economic variables from FRED"
   ]
  },
  {
   "cell_type": "code",
   "execution_count": 4,
   "id": "853ce75f",
   "metadata": {},
   "outputs": [],
   "source": [
    "series = {\n",
    "    # Monetary & financial\n",
    "    \"Interest_Rate\": \"FEDFUNDS\",\n",
    "    \"Long_Term_Rate\": \"GS10\",\n",
    "    \"Credit_Spread\": \"BAA10Y\",\n",
    "\n",
    "    # Prices & expectations\n",
    "    \"CPI\": \"CPIAUCSL\",  # to compute YoY inflation\n",
    "    \"Inflation_Expectations\": \"MICH\",\n",
    "    \"House_Prices\": \"USSTHPI\",\n",
    "\n",
    "    # Output & supply side\n",
    "    \"GDP\": \"GDPC1\",\n",
    "    \"Industrial_Production\": \"INDPRO\",\n",
    "    \"Productivity\": \"OPHNFB\",\n",
    "    \"Capacity_Utilization\": \"TCU\",\n",
    "    \"Employment\": \"PAYEMS\",\n",
    "\n",
    "    # External sector\n",
    "    \"Exports\": \"EXPGS\",\n",
    "    \"Imports\": \"IMPGS\",\n",
    "    \"Real_Exchange_Rate\": \"RBUSBIS\",\n",
    "\n",
    "    # Fiscal policy\n",
    "    \"Public_Debt_GDP_Ratio\": \"GFDEGDQ188S\",\n",
    "    \"Govt_Expenditures\": \"FGEXPND\",\n",
    "    \"Govt_Gross_Investment\": \"A782RC1Q027SBEA\",\n",
    "    \"Private_Investment\": \"GPDIC1\",\n",
    "\n",
    "    # Prices & commodity cycle\n",
    "    \"Oil_Price\": \"POILWTIUSDM\",\n",
    "    \"Commodity_Index\": \"PALLFNFINDEXQ\",\n",
    "\n",
    "    # Sentiment\n",
    "    \"Consumer_Confidence\": \"UMCSENT\",\n",
    "}"
   ]
  },
  {
   "cell_type": "code",
   "execution_count": 5,
   "id": "9b13f696",
   "metadata": {},
   "outputs": [],
   "source": [
    "start = \"1980-01-01\"\n",
    "end = \"2024-12-31\"\n",
    "\n",
    "df = pd.DataFrame()\n",
    "for name, code in series.items():\n",
    "    if code:\n",
    "        try:\n",
    "            df[name] = fred_downloader.DataReader(code, \"fred\", start, end)[code]\n",
    "        except Exception as e:\n",
    "            print(f\"Error loading {name}: {e}\")"
   ]
  },
  {
   "cell_type": "markdown",
   "id": "ba123456",
   "metadata": {},
   "source": [
    "### Variables have different frequencies: resample to least granular frequency (quarterly)"
   ]
  },
  {
   "cell_type": "code",
   "execution_count": 6,
   "id": "755f308b",
   "metadata": {},
   "outputs": [],
   "source": [
    "df_q = df.resample(\"QE\").mean()"
   ]
  },
  {
   "cell_type": "markdown",
   "id": "577ddddb",
   "metadata": {},
   "source": [
    "### Feature engineering"
   ]
  },
  {
   "cell_type": "code",
   "execution_count": 7,
   "id": "671d480d",
   "metadata": {},
   "outputs": [],
   "source": [
    "df_q[\"GDP_Growth\"] = df_q[\"GDP\"].pct_change(4) * 100\n",
    "df_q[\"Productivity_Growth\"] = np.log(df_q[\"Productivity\"]).diff() * 100\n",
    "df_q[\"Employment_Growth\"] = df_q[\"Employment\"].pct_change() * 100\n",
    "df_q[\"Capacity_Utilization\"] = df_q[\"Capacity_Utilization\"]\n",
    "\n",
    "df_q[\"Inflation_Rate\"] = df_q[\"CPI\"].pct_change(4) * 100\n",
    "\n",
    "df_q[\"Oil_Price_Growth\"] = np.log(df_q[\"Oil_Price\"]).diff() * 100\n",
    "df_q[\"Commodity_Index_Growth\"] = np.log(df_q[\"Commodity_Index\"]).diff() * 100\n",
    "\n",
    "df_q[\"Exports_Growth\"] = df_q[\"Exports\"].pct_change(1) * 100\n",
    "df_q[\"Imports_Growth\"] = df_q[\"Imports\"].pct_change(1) * 100\n",
    "df_q[\"Real_Exchange_Rate_Growth\"] = np.log(df_q[\"Real_Exchange_Rate\"]).diff() * 100\n",
    "\n",
    "df_q[\"Govt_Expenditures_Growth\"] = df_q[\"Govt_Expenditures\"].pct_change() * 100\n",
    "df_q[\"Govt_Gross_Investment_Growth\"] = df_q[\"Govt_Gross_Investment\"].pct_change() * 100\n",
    "df_q[\"Private_Investment_Growth\"] = df_q[\"Private_Investment\"].pct_change() * 100\n",
    "df_q[\"Public_Debt_GDP_Change\"] = df_q[\"Public_Debt_GDP_Ratio\"].diff()\n",
    "\n",
    "df_q[\"Yield_Curve_Slope\"] = df_q[\"Long_Term_Rate\"] - df_q[\"Interest_Rate\"]\n",
    "df_q[\"Interest_Rate\"] = df_q[\"Interest_Rate\"]\n",
    "df_q[\"Credit_Spread\"] = df_q[\"Credit_Spread\"]\n",
    "\n",
    "df_q[\"Consumer_Confidence\"] = df_q[\"Consumer_Confidence\"]\n",
    "df_q[\"House_Prices_Growth\"] = np.log(df_q[\"House_Prices\"]).diff() * 100"
   ]
  },
  {
   "cell_type": "code",
   "execution_count": 8,
   "id": "3764c044",
   "metadata": {},
   "outputs": [],
   "source": [
    "# Drop raw levels\n",
    "df_q = df_q.drop(columns=[\n",
    "    \"CPI\", \"GDP\", \"Productivity\", \"Employment\",\n",
    "    \"Oil_Price\", \"Commodity_Index\",\n",
    "    \"Exports\", \"Imports\",\n",
    "    \"Govt_Expenditures\", \"Govt_Gross_Investment\",\n",
    "    \"Private_Investment\", \"Public_Debt_GDP_Ratio\",\n",
    "    \"Real_Exchange_Rate\",\n",
    "    \"Long_Term_Rate\", \"House_Prices\"\n",
    "], errors='ignore')"
   ]
  },
  {
   "cell_type": "code",
   "execution_count": 9,
   "id": "0a089b9c",
   "metadata": {},
   "outputs": [],
   "source": [
    "df_q = df_q.sort_index()  # sort by date\n",
    "df_q = df_q.dropna()"
   ]
  },
  {
   "cell_type": "code",
   "execution_count": 10,
   "id": "93aef9d8",
   "metadata": {},
   "outputs": [],
   "source": [
    "# Standardize (optional but helps)\n",
    "df_q = (df_q - df_q.mean()) / df_q.std()"
   ]
  },
  {
   "cell_type": "markdown",
   "id": "1a2a28b9",
   "metadata": {},
   "source": [
    "### Final data"
   ]
  },
  {
   "cell_type": "code",
   "execution_count": 11,
   "id": "9cdde9fe",
   "metadata": {},
   "outputs": [
    {
     "data": {
      "text/plain": [
       "['Interest_Rate',\n",
       " 'Credit_Spread',\n",
       " 'Inflation_Expectations',\n",
       " 'Industrial_Production',\n",
       " 'Capacity_Utilization',\n",
       " 'Consumer_Confidence',\n",
       " 'GDP_Growth',\n",
       " 'Productivity_Growth',\n",
       " 'Employment_Growth',\n",
       " 'Inflation_Rate',\n",
       " 'Oil_Price_Growth',\n",
       " 'Commodity_Index_Growth',\n",
       " 'Exports_Growth',\n",
       " 'Imports_Growth',\n",
       " 'Real_Exchange_Rate_Growth',\n",
       " 'Govt_Expenditures_Growth',\n",
       " 'Govt_Gross_Investment_Growth',\n",
       " 'Private_Investment_Growth',\n",
       " 'Public_Debt_GDP_Change',\n",
       " 'Yield_Curve_Slope',\n",
       " 'House_Prices_Growth']"
      ]
     },
     "execution_count": 11,
     "metadata": {},
     "output_type": "execute_result"
    }
   ],
   "source": [
    "df_q.columns.tolist()"
   ]
  },
  {
   "cell_type": "code",
   "execution_count": 12,
   "id": "4d4fc346",
   "metadata": {},
   "outputs": [
    {
     "data": {
      "text/plain": [
       "(83, 21)"
      ]
     },
     "execution_count": 12,
     "metadata": {},
     "output_type": "execute_result"
    }
   ],
   "source": [
    "df_q.shape"
   ]
  },
  {
   "cell_type": "code",
   "execution_count": 13,
   "id": "37000e2b",
   "metadata": {},
   "outputs": [
    {
     "data": {
      "text/html": [
       "<div>\n",
       "<style scoped>\n",
       "    .dataframe tbody tr th:only-of-type {\n",
       "        vertical-align: middle;\n",
       "    }\n",
       "\n",
       "    .dataframe tbody tr th {\n",
       "        vertical-align: top;\n",
       "    }\n",
       "\n",
       "    .dataframe thead th {\n",
       "        text-align: right;\n",
       "    }\n",
       "</style>\n",
       "<table border=\"1\" class=\"dataframe\">\n",
       "  <thead>\n",
       "    <tr style=\"text-align: right;\">\n",
       "      <th></th>\n",
       "      <th>Interest_Rate</th>\n",
       "      <th>Credit_Spread</th>\n",
       "      <th>Inflation_Expectations</th>\n",
       "      <th>Industrial_Production</th>\n",
       "      <th>Capacity_Utilization</th>\n",
       "      <th>Consumer_Confidence</th>\n",
       "      <th>GDP_Growth</th>\n",
       "      <th>Productivity_Growth</th>\n",
       "      <th>Employment_Growth</th>\n",
       "      <th>Inflation_Rate</th>\n",
       "      <th>...</th>\n",
       "      <th>Commodity_Index_Growth</th>\n",
       "      <th>Exports_Growth</th>\n",
       "      <th>Imports_Growth</th>\n",
       "      <th>Real_Exchange_Rate_Growth</th>\n",
       "      <th>Govt_Expenditures_Growth</th>\n",
       "      <th>Govt_Gross_Investment_Growth</th>\n",
       "      <th>Private_Investment_Growth</th>\n",
       "      <th>Public_Debt_GDP_Change</th>\n",
       "      <th>Yield_Curve_Slope</th>\n",
       "      <th>House_Prices_Growth</th>\n",
       "    </tr>\n",
       "    <tr>\n",
       "      <th>DATE</th>\n",
       "      <th></th>\n",
       "      <th></th>\n",
       "      <th></th>\n",
       "      <th></th>\n",
       "      <th></th>\n",
       "      <th></th>\n",
       "      <th></th>\n",
       "      <th></th>\n",
       "      <th></th>\n",
       "      <th></th>\n",
       "      <th></th>\n",
       "      <th></th>\n",
       "      <th></th>\n",
       "      <th></th>\n",
       "      <th></th>\n",
       "      <th></th>\n",
       "      <th></th>\n",
       "      <th></th>\n",
       "      <th></th>\n",
       "      <th></th>\n",
       "      <th></th>\n",
       "    </tr>\n",
       "  </thead>\n",
       "  <tbody>\n",
       "    <tr>\n",
       "      <th>2003-06-30</th>\n",
       "      <td>-0.244528</td>\n",
       "      <td>0.692200</td>\n",
       "      <td>-1.463438</td>\n",
       "      <td>-1.739423</td>\n",
       "      <td>-0.628836</td>\n",
       "      <td>0.662096</td>\n",
       "      <td>-0.150240</td>\n",
       "      <td>1.068518</td>\n",
       "      <td>-0.288301</td>\n",
       "      <td>-0.357004</td>\n",
       "      <td>...</td>\n",
       "      <td>-0.871220</td>\n",
       "      <td>-0.335861</td>\n",
       "      <td>-0.402741</td>\n",
       "      <td>-1.477078</td>\n",
       "      <td>0.171195</td>\n",
       "      <td>-0.626437</td>\n",
       "      <td>-0.086927</td>\n",
       "      <td>0.136822</td>\n",
       "      <td>0.782219</td>\n",
       "      <td>0.100767</td>\n",
       "    </tr>\n",
       "    <tr>\n",
       "      <th>2003-09-30</th>\n",
       "      <td>-0.365934</td>\n",
       "      <td>0.395032</td>\n",
       "      <td>-1.226109</td>\n",
       "      <td>-1.604945</td>\n",
       "      <td>-0.442628</td>\n",
       "      <td>0.664793</td>\n",
       "      <td>0.436895</td>\n",
       "      <td>2.156475</td>\n",
       "      <td>-0.164221</td>\n",
       "      <td>-0.241187</td>\n",
       "      <td>...</td>\n",
       "      <td>-0.003777</td>\n",
       "      <td>0.282119</td>\n",
       "      <td>0.073847</td>\n",
       "      <td>0.173897</td>\n",
       "      <td>-0.122541</td>\n",
       "      <td>0.978959</td>\n",
       "      <td>0.722397</td>\n",
       "      <td>-0.304817</td>\n",
       "      <td>1.419324</td>\n",
       "      <td>0.282222</td>\n",
       "    </tr>\n",
       "    <tr>\n",
       "      <th>2003-12-31</th>\n",
       "      <td>-0.376491</td>\n",
       "      <td>0.018135</td>\n",
       "      <td>-0.798915</td>\n",
       "      <td>-1.408767</td>\n",
       "      <td>-0.188484</td>\n",
       "      <td>0.880499</td>\n",
       "      <td>0.928895</td>\n",
       "      <td>0.597684</td>\n",
       "      <td>-0.014511</td>\n",
       "      <td>-0.359259</td>\n",
       "      <td>...</td>\n",
       "      <td>0.581930</td>\n",
       "      <td>0.816190</td>\n",
       "      <td>0.518437</td>\n",
       "      <td>-1.601729</td>\n",
       "      <td>-0.022857</td>\n",
       "      <td>-0.277874</td>\n",
       "      <td>0.666967</td>\n",
       "      <td>0.032983</td>\n",
       "      <td>1.474724</td>\n",
       "      <td>1.009247</td>\n",
       "    </tr>\n",
       "    <tr>\n",
       "      <th>2004-03-31</th>\n",
       "      <td>-0.372972</td>\n",
       "      <td>-0.315274</td>\n",
       "      <td>-0.656517</td>\n",
       "      <td>-1.263368</td>\n",
       "      <td>0.003167</td>\n",
       "      <td>1.368536</td>\n",
       "      <td>0.947995</td>\n",
       "      <td>-0.949974</td>\n",
       "      <td>0.033330</td>\n",
       "      <td>-0.460275</td>\n",
       "      <td>...</td>\n",
       "      <td>0.689252</td>\n",
       "      <td>0.489186</td>\n",
       "      <td>0.851104</td>\n",
       "      <td>-0.841662</td>\n",
       "      <td>-0.015793</td>\n",
       "      <td>-0.514725</td>\n",
       "      <td>-0.218182</td>\n",
       "      <td>-0.099371</td>\n",
       "      <td>1.268232</td>\n",
       "      <td>0.301105</td>\n",
       "    </tr>\n",
       "    <tr>\n",
       "      <th>2004-06-30</th>\n",
       "      <td>-0.369453</td>\n",
       "      <td>-0.373258</td>\n",
       "      <td>0.102938</td>\n",
       "      <td>-1.145906</td>\n",
       "      <td>0.162720</td>\n",
       "      <td>0.991049</td>\n",
       "      <td>0.895330</td>\n",
       "      <td>0.728623</td>\n",
       "      <td>0.198468</td>\n",
       "      <td>0.071211</td>\n",
       "      <td>...</td>\n",
       "      <td>0.478536</td>\n",
       "      <td>0.342046</td>\n",
       "      <td>0.843199</td>\n",
       "      <td>1.282676</td>\n",
       "      <td>-0.086244</td>\n",
       "      <td>0.622139</td>\n",
       "      <td>0.821283</td>\n",
       "      <td>-0.134116</td>\n",
       "      <td>1.701362</td>\n",
       "      <td>0.794655</td>\n",
       "    </tr>\n",
       "  </tbody>\n",
       "</table>\n",
       "<p>5 rows × 21 columns</p>\n",
       "</div>"
      ],
      "text/plain": [
       "            Interest_Rate  Credit_Spread  Inflation_Expectations  \\\n",
       "DATE                                                               \n",
       "2003-06-30      -0.244528       0.692200               -1.463438   \n",
       "2003-09-30      -0.365934       0.395032               -1.226109   \n",
       "2003-12-31      -0.376491       0.018135               -0.798915   \n",
       "2004-03-31      -0.372972      -0.315274               -0.656517   \n",
       "2004-06-30      -0.369453      -0.373258                0.102938   \n",
       "\n",
       "            Industrial_Production  Capacity_Utilization  Consumer_Confidence  \\\n",
       "DATE                                                                           \n",
       "2003-06-30              -1.739423             -0.628836             0.662096   \n",
       "2003-09-30              -1.604945             -0.442628             0.664793   \n",
       "2003-12-31              -1.408767             -0.188484             0.880499   \n",
       "2004-03-31              -1.263368              0.003167             1.368536   \n",
       "2004-06-30              -1.145906              0.162720             0.991049   \n",
       "\n",
       "            GDP_Growth  Productivity_Growth  Employment_Growth  \\\n",
       "DATE                                                             \n",
       "2003-06-30   -0.150240             1.068518          -0.288301   \n",
       "2003-09-30    0.436895             2.156475          -0.164221   \n",
       "2003-12-31    0.928895             0.597684          -0.014511   \n",
       "2004-03-31    0.947995            -0.949974           0.033330   \n",
       "2004-06-30    0.895330             0.728623           0.198468   \n",
       "\n",
       "            Inflation_Rate  ...  Commodity_Index_Growth  Exports_Growth  \\\n",
       "DATE                        ...                                           \n",
       "2003-06-30       -0.357004  ...               -0.871220       -0.335861   \n",
       "2003-09-30       -0.241187  ...               -0.003777        0.282119   \n",
       "2003-12-31       -0.359259  ...                0.581930        0.816190   \n",
       "2004-03-31       -0.460275  ...                0.689252        0.489186   \n",
       "2004-06-30        0.071211  ...                0.478536        0.342046   \n",
       "\n",
       "            Imports_Growth  Real_Exchange_Rate_Growth  \\\n",
       "DATE                                                    \n",
       "2003-06-30       -0.402741                  -1.477078   \n",
       "2003-09-30        0.073847                   0.173897   \n",
       "2003-12-31        0.518437                  -1.601729   \n",
       "2004-03-31        0.851104                  -0.841662   \n",
       "2004-06-30        0.843199                   1.282676   \n",
       "\n",
       "            Govt_Expenditures_Growth  Govt_Gross_Investment_Growth  \\\n",
       "DATE                                                                 \n",
       "2003-06-30                  0.171195                     -0.626437   \n",
       "2003-09-30                 -0.122541                      0.978959   \n",
       "2003-12-31                 -0.022857                     -0.277874   \n",
       "2004-03-31                 -0.015793                     -0.514725   \n",
       "2004-06-30                 -0.086244                      0.622139   \n",
       "\n",
       "            Private_Investment_Growth  Public_Debt_GDP_Change  \\\n",
       "DATE                                                            \n",
       "2003-06-30                  -0.086927                0.136822   \n",
       "2003-09-30                   0.722397               -0.304817   \n",
       "2003-12-31                   0.666967                0.032983   \n",
       "2004-03-31                  -0.218182               -0.099371   \n",
       "2004-06-30                   0.821283               -0.134116   \n",
       "\n",
       "            Yield_Curve_Slope  House_Prices_Growth  \n",
       "DATE                                                \n",
       "2003-06-30           0.782219             0.100767  \n",
       "2003-09-30           1.419324             0.282222  \n",
       "2003-12-31           1.474724             1.009247  \n",
       "2004-03-31           1.268232             0.301105  \n",
       "2004-06-30           1.701362             0.794655  \n",
       "\n",
       "[5 rows x 21 columns]"
      ]
     },
     "execution_count": 13,
     "metadata": {},
     "output_type": "execute_result"
    }
   ],
   "source": [
    "df_q.head()"
   ]
  },
  {
   "cell_type": "markdown",
   "id": "b50405f2",
   "metadata": {},
   "source": [
    "# Run PCMCI algorithm and uncover causal relationships"
   ]
  },
  {
   "cell_type": "code",
   "execution_count": 28,
   "id": "e537d4d1",
   "metadata": {},
   "outputs": [
    {
     "name": "stdout",
     "output_type": "stream",
     "text": [
      "P-matrix:\n",
      "[[[           nan            nan            nan            nan\n",
      "              nan]\n",
      "  [           nan            nan            nan            nan\n",
      "              nan]\n",
      "  [           nan            nan            nan            nan\n",
      "              nan]\n",
      "  ...\n",
      "  [           nan            nan            nan            nan\n",
      "              nan]\n",
      "  [           nan 2.41571207e-11            nan            nan\n",
      "   1.11944220e-04]\n",
      "  [           nan            nan            nan            nan\n",
      "   1.78869312e-06]]\n",
      "\n",
      " [[           nan            nan            nan            nan\n",
      "              nan]\n",
      "  [           nan            nan            nan            nan\n",
      "              nan]\n",
      "  [           nan            nan            nan            nan\n",
      "              nan]\n",
      "  ...\n",
      "  [           nan            nan            nan            nan\n",
      "              nan]\n",
      "  [           nan            nan            nan            nan\n",
      "              nan]\n",
      "  [           nan 7.81536278e-03            nan            nan\n",
      "              nan]]\n",
      "\n",
      " [[           nan            nan            nan            nan\n",
      "              nan]\n",
      "  [           nan            nan            nan            nan\n",
      "              nan]\n",
      "  [           nan            nan            nan            nan\n",
      "              nan]\n",
      "  ...\n",
      "  [           nan            nan            nan            nan\n",
      "              nan]\n",
      "  [           nan            nan            nan            nan\n",
      "              nan]\n",
      "  [           nan            nan            nan            nan\n",
      "              nan]]\n",
      "\n",
      " ...\n",
      "\n",
      " [[           nan            nan            nan            nan\n",
      "              nan]\n",
      "  [           nan            nan            nan            nan\n",
      "              nan]\n",
      "  [           nan            nan            nan            nan\n",
      "              nan]\n",
      "  ...\n",
      "  [           nan            nan            nan            nan\n",
      "              nan]\n",
      "  [           nan            nan            nan            nan\n",
      "              nan]\n",
      "  [           nan            nan            nan            nan\n",
      "              nan]]\n",
      "\n",
      " [[           nan 2.11375930e-03 1.13856411e-01 7.05501413e-04\n",
      "              nan]\n",
      "  [           nan 5.82661433e-01            nan            nan\n",
      "              nan]\n",
      "  [           nan            nan            nan            nan\n",
      "              nan]\n",
      "  ...\n",
      "  [           nan            nan            nan            nan\n",
      "              nan]\n",
      "  [           nan            nan            nan            nan\n",
      "              nan]\n",
      "  [           nan            nan            nan            nan\n",
      "              nan]]\n",
      "\n",
      " [[           nan            nan            nan            nan\n",
      "              nan]\n",
      "  [           nan            nan 1.97467792e-06            nan\n",
      "              nan]\n",
      "  [           nan            nan            nan            nan\n",
      "              nan]\n",
      "  ...\n",
      "  [           nan            nan            nan            nan\n",
      "              nan]\n",
      "  [           nan 5.77629575e-02            nan            nan\n",
      "              nan]\n",
      "  [           nan            nan            nan            nan\n",
      "              nan]]]\n",
      "\n",
      "Effect size matrix:\n",
      "[[[        nan         nan         nan         nan         nan]\n",
      "  [        nan         nan         nan         nan         nan]\n",
      "  [        nan         nan         nan         nan         nan]\n",
      "  ...\n",
      "  [        nan         nan         nan         nan         nan]\n",
      "  [        nan -0.69165749         nan         nan  0.42864328]\n",
      "  [        nan         nan         nan         nan -0.51059195]]\n",
      "\n",
      " [[        nan         nan         nan         nan         nan]\n",
      "  [        nan         nan         nan         nan         nan]\n",
      "  [        nan         nan         nan         nan         nan]\n",
      "  ...\n",
      "  [        nan         nan         nan         nan         nan]\n",
      "  [        nan         nan         nan         nan         nan]\n",
      "  [        nan -0.30293191         nan         nan         nan]]\n",
      "\n",
      " [[        nan         nan         nan         nan         nan]\n",
      "  [        nan         nan         nan         nan         nan]\n",
      "  [        nan         nan         nan         nan         nan]\n",
      "  ...\n",
      "  [        nan         nan         nan         nan         nan]\n",
      "  [        nan         nan         nan         nan         nan]\n",
      "  [        nan         nan         nan         nan         nan]]\n",
      "\n",
      " ...\n",
      "\n",
      " [[        nan         nan         nan         nan         nan]\n",
      "  [        nan         nan         nan         nan         nan]\n",
      "  [        nan         nan         nan         nan         nan]\n",
      "  ...\n",
      "  [        nan         nan         nan         nan         nan]\n",
      "  [        nan         nan         nan         nan         nan]\n",
      "  [        nan         nan         nan         nan         nan]]\n",
      "\n",
      " [[        nan -0.36138976  0.19067188  0.39536366         nan]\n",
      "  [        nan  0.06402855         nan         nan         nan]\n",
      "  [        nan         nan         nan         nan         nan]\n",
      "  ...\n",
      "  [        nan         nan         nan         nan         nan]\n",
      "  [        nan         nan         nan         nan         nan]\n",
      "  [        nan         nan         nan         nan         nan]]\n",
      "\n",
      " [[        nan         nan         nan         nan         nan]\n",
      "  [        nan         nan -0.51167763         nan         nan]\n",
      "  [        nan         nan         nan         nan         nan]\n",
      "  ...\n",
      "  [        nan         nan         nan         nan         nan]\n",
      "  [        nan -0.22010523         nan         nan         nan]\n",
      "  [        nan         nan         nan         nan         nan]]]\n"
     ]
    }
   ],
   "source": [
    "result = pcmcirustpy.run_pcmci(\n",
    "    df_q.values,\n",
    "    max_lag=4,\n",
    "    alpha=0.05,\n",
    "    max_condition_set_size=3,\n",
    "    max_subsets=1\n",
    ")\n",
    "\n",
    "print(\"P-matrix:\")\n",
    "print(result[\"p_matrix\"])\n",
    "\n",
    "print(\"\\nEffect size matrix:\")\n",
    "print(result[\"val_matrix\"])"
   ]
  },
  {
   "cell_type": "code",
   "execution_count": 29,
   "id": "2c4ca6fc",
   "metadata": {},
   "outputs": [
    {
     "name": "stdout",
     "output_type": "stream",
     "text": [
      "Interest_Rate -> Yield_Curve_Slope at lag 1: Effect size = -0.6916574875766609, P-value = 2.4157120748213856e-11\n",
      "Interest_Rate -> Yield_Curve_Slope at lag 4: Effect size = 0.4286432815975269, P-value = 0.00011194421960003531\n",
      "Interest_Rate -> House_Prices_Growth at lag 4: Effect size = -0.5105919476798771, P-value = 1.7886931236166248e-06\n",
      "Credit_Spread -> Industrial_Production at lag 1: Effect size = -0.323248450016494, P-value = 0.0046728315531963105\n",
      "Credit_Spread -> Capacity_Utilization at lag 1: Effect size = -0.6617454733843093, P-value = 1.0208212053441912e-10\n",
      "Credit_Spread -> GDP_Growth at lag 1: Effect size = -0.4268849347454831, P-value = 0.0002542938645728743\n",
      "Credit_Spread -> Govt_Gross_Investment_Growth at lag 3: Effect size = -0.5071558650584965, P-value = 2.1532770995147388e-06\n",
      "Credit_Spread -> House_Prices_Growth at lag 1: Effect size = -0.30293190723568386, P-value = 0.007815362775037693\n",
      "Inflation_Expectations -> Consumer_Confidence at lag 1: Effect size = -0.3646188960621119, P-value = 0.0012992517367231837\n",
      "Inflation_Expectations -> Consumer_Confidence at lag 4: Effect size = -0.4002162932920605, P-value = 0.000282832432139557\n",
      "Industrial_Production -> Yield_Curve_Slope at lag 4: Effect size = -0.6029827378042799, P-value = 8.210517599138711e-09\n",
      "Capacity_Utilization -> GDP_Growth at lag 4: Effect size = -0.32941119727513063, P-value = 0.005029292938259156\n",
      "GDP_Growth -> Capacity_Utilization at lag 4: Effect size = 0.3644833401952253, P-value = 0.001118469117308507\n",
      "Productivity_Growth -> Capacity_Utilization at lag 2: Effect size = -0.286474569741739, P-value = 0.012112172882434047\n",
      "Employment_Growth -> GDP_Growth at lag 2: Effect size = 0.2543988201487274, P-value = 0.03356746437412572\n",
      "Inflation_Rate -> Interest_Rate at lag 4: Effect size = 0.4172636760433571, P-value = 0.00026587468063876685\n",
      "Commodity_Index_Growth -> Inflation_Expectations at lag 1: Effect size = 0.4256001282789589, P-value = 0.00011397601957896519\n",
      "Commodity_Index_Growth -> Inflation_Rate at lag 1: Effect size = 0.3170843234428311, P-value = 0.006650126038953319\n",
      "Govt_Expenditures_Growth -> Employment_Growth at lag 1: Effect size = 0.30740372900151713, P-value = 0.006537631984484982\n",
      "Govt_Expenditures_Growth -> Private_Investment_Growth at lag 1: Effect size = 0.4532346092132365, P-value = 3.484435492007165e-05\n",
      "Govt_Expenditures_Growth -> Public_Debt_GDP_Change at lag 1: Effect size = -0.29124311906141864, P-value = 0.00968144304533114\n",
      "Govt_Gross_Investment_Growth -> Interest_Rate at lag 3: Effect size = 0.2681384915121682, P-value = 0.022769136452833294\n",
      "Govt_Gross_Investment_Growth -> Interest_Rate at lag 4: Effect size = 0.23457603057306903, P-value = 0.04732544074930489\n",
      "Govt_Gross_Investment_Growth -> Employment_Growth at lag 4: Effect size = -0.26828159363548426, P-value = 0.017555697579295648\n",
      "Govt_Gross_Investment_Growth -> Private_Investment_Growth at lag 2: Effect size = -0.34695180977502826, P-value = 0.0018582437940624086\n",
      "Private_Investment_Growth -> Productivity_Growth at lag 1: Effect size = -0.2862933029640492, P-value = 0.011596246174509162\n",
      "Public_Debt_GDP_Change -> Oil_Price_Growth at lag 1: Effect size = 0.2245976148690536, P-value = 0.04805267659265766\n",
      "Public_Debt_GDP_Change -> Exports_Growth at lag 1: Effect size = 0.2640842347491683, P-value = 0.019474924512522973\n",
      "Public_Debt_GDP_Change -> Imports_Growth at lag 1: Effect size = 0.33311664835890725, P-value = 0.0028813387948991576\n",
      "Public_Debt_GDP_Change -> Govt_Expenditures_Growth at lag 3: Effect size = 0.29923341523230534, P-value = 0.007782401619714996\n",
      "Yield_Curve_Slope -> Interest_Rate at lag 1: Effect size = -0.361389755564681, P-value = 0.002113759302615481\n",
      "Yield_Curve_Slope -> Interest_Rate at lag 3: Effect size = 0.39536366324661326, P-value = 0.0007055014133472426\n",
      "Yield_Curve_Slope -> Industrial_Production at lag 4: Effect size = -0.251539371491757, P-value = 0.027330898875758347\n",
      "House_Prices_Growth -> Credit_Spread at lag 2: Effect size = -0.5116776250523505, P-value = 1.9746779233997813e-06\n",
      "House_Prices_Growth -> Industrial_Production at lag 4: Effect size = 0.2833454903416385, P-value = 0.012522007207111718\n",
      "House_Prices_Growth -> GDP_Growth at lag 1: Effect size = 0.3291520600367536, P-value = 0.0053978128041143325\n"
     ]
    }
   ],
   "source": [
    "series = dict(zip(df_q.columns, df_q.columns))\n",
    "\n",
    "for val in np.argwhere(~np.isnan(result[\"val_matrix\"])):\n",
    "    if result['p_matrix'][val[0], val[1], val[2]] < 0.05:\n",
    "        print(\n",
    "            f\"{list(series.keys())[val[0]]} -> {list(series.keys())[val[1]]} at lag {val[2]}: \"\n",
    "            f\"Effect size = {result['val_matrix'][val[0], val[1], val[2]]}, \"\n",
    "            f\"P-value = {result['p_matrix'][val[0], val[1], val[2]]}\"\n",
    "        )"
   ]
  },
  {
   "cell_type": "markdown",
   "id": "615c9319",
   "metadata": {},
   "source": [
    "# Additional analysis: Use causally relevant variables as exogenous variables to improve ARIMA forecast"
   ]
  },
  {
   "cell_type": "code",
   "execution_count": 38,
   "id": "743a02dc",
   "metadata": {},
   "outputs": [],
   "source": [
    "from statsmodels.tsa.arima.model import ARIMA\n",
    "from sklearn.metrics import mean_squared_error\n",
    "import matplotlib.pyplot as plt"
   ]
  },
  {
   "cell_type": "code",
   "execution_count": 39,
   "id": "1ff6e555",
   "metadata": {},
   "outputs": [],
   "source": [
    "df_arima = df_q.copy()\n",
    "target = \"GDP_Growth\""
   ]
  },
  {
   "cell_type": "markdown",
   "id": "b26de208",
   "metadata": {},
   "source": [
    "### Compare ARIMA vs ARIMAX with causally relevant variables vs ARIMAX with all variables"
   ]
  },
  {
   "cell_type": "code",
   "execution_count": null,
   "id": "182b63a9",
   "metadata": {},
   "outputs": [],
   "source": [
    "# Add the correct lags as per PCMCI results\n",
    "def add_lags(df, var, lags):\n",
    "    for lag in lags:\n",
    "        df[f\"{var}_lag{lag}\"] = df[var].shift(lag)\n",
    "    return df\n",
    "\n",
    "df_arima = add_lags(df_arima, \"Capacity_Utilization\", [4])\n",
    "df_arima = add_lags(df_arima, \"Employment_Growth\", [2])\n",
    "df_arima = add_lags(df_arima, \"House_Prices_Growth\", [1])\n",
    "\n",
    "pcmci_lagged = [\n",
    "    \"Capacity_Utilization_lag4\",\n",
    "    \"Employment_Growth_lag2\",\n",
    "    \"House_Prices_Growth_lag1\"\n",
    "]"
   ]
  },
  {
   "cell_type": "code",
   "execution_count": 41,
   "id": "e4f37346",
   "metadata": {},
   "outputs": [],
   "source": [
    "# For all-variables-ARIMAX model, add 1 lag for simplicity\n",
    "all_drivers = [col for col in df_arima.columns if col != target]\n",
    "for var in all_drivers:\n",
    "    df_arima[f\"{var}_lag1\"] = df_arima[var].shift(1)\n",
    "all_lagged = [col for col in df_arima.columns if \"_lag\" in col]"
   ]
  },
  {
   "cell_type": "code",
   "execution_count": 42,
   "id": "c585ff3d",
   "metadata": {},
   "outputs": [],
   "source": [
    "# Train-test split\n",
    "df_arima.dropna(inplace=True)\n",
    "train_size = int(len(df_arima) * 0.8)\n",
    "train, test = df_arima.iloc[:train_size], df_arima.iloc[train_size:]"
   ]
  },
  {
   "cell_type": "markdown",
   "id": "0c6accb1",
   "metadata": {},
   "source": [
    "### Basic ARIMA model"
   ]
  },
  {
   "cell_type": "code",
   "execution_count": null,
   "id": "ac0c2974",
   "metadata": {},
   "outputs": [],
   "source": [
    "model_arima = ARIMA(train[target], order=(1, 0, 0))\n",
    "fit_arima = model_arima.fit()\n",
    "pred_arima = fit_arima.forecast(steps=len(test))"
   ]
  },
  {
   "cell_type": "markdown",
   "id": "ca83d84d",
   "metadata": {},
   "source": [
    "### ARIMAX with causally relevant variables at lags specified by PCMCI outputs"
   ]
  },
  {
   "cell_type": "code",
   "execution_count": null,
   "id": "09f4e30b",
   "metadata": {},
   "outputs": [],
   "source": [
    "model_pcmci = ARIMA(\n",
    "    train[target],\n",
    "    exog=train[pcmci_lagged],\n",
    "    order=(1, 0, 0)\n",
    ")\n",
    "fit_pcmci = model_pcmci.fit()\n",
    "pred_pcmci = fit_pcmci.forecast(steps=len(test), exog=test[pcmci_lagged])"
   ]
  },
  {
   "cell_type": "markdown",
   "id": "9e006c7d",
   "metadata": {},
   "source": [
    "### ARIMAX with all variables as exogenous variables"
   ]
  },
  {
   "cell_type": "code",
   "execution_count": null,
   "id": "812290a9",
   "metadata": {},
   "outputs": [],
   "source": [
    "model_all = ARIMA(\n",
    "    train[target],\n",
    "    exog=train[all_lagged],\n",
    "    order=(1, 0, 0)\n",
    ")\n",
    "fit_all = model_all.fit()\n",
    "pred_all = fit_all.forecast(steps=len(test), exog=test[all_lagged])"
   ]
  },
  {
   "cell_type": "markdown",
   "id": "234e617e",
   "metadata": {},
   "source": [
    "### Compare results"
   ]
  },
  {
   "cell_type": "code",
   "execution_count": 46,
   "id": "4d15a770",
   "metadata": {},
   "outputs": [
    {
     "name": "stdout",
     "output_type": "stream",
     "text": [
      "ARIMA RMSE: 1.5445\n",
      "PCMCI-ARIMAX RMSE: 0.9902\n",
      "ALL-ARIMAX RMSE: 1.5525\n"
     ]
    }
   ],
   "source": [
    "rmse_arima = np.sqrt(mean_squared_error(test[target], pred_arima))\n",
    "rmse_pcmci = np.sqrt(mean_squared_error(test[target], pred_pcmci))\n",
    "rmse_all = np.sqrt(mean_squared_error(test[target], pred_all))\n",
    "\n",
    "print(f\"ARIMA RMSE: {rmse_arima:.4f}\")\n",
    "print(f\"PCMCI-ARIMAX RMSE: {rmse_pcmci:.4f}\")\n",
    "print(f\"ALL-ARIMAX RMSE: {rmse_all:.4f}\")"
   ]
  },
  {
   "cell_type": "code",
   "execution_count": 47,
   "id": "ce584e96",
   "metadata": {},
   "outputs": [
    {
     "data": {
      "image/png": "[encoded data removed]",
      "text/plain": [
       "<Figure size 1200x600 with 1 Axes>"
      ]
     },
     "metadata": {},
     "output_type": "display_data"
    }
   ],
   "source": [
    "plt.figure(figsize=(12, 6))\n",
    "\n",
    "# Actual\n",
    "plt.plot(test.index, test[target], label=\"Actual\", color=\"black\")\n",
    "\n",
    "# Baseline ARIMA\n",
    "plt.plot(test.index, pred_arima, label=\"ARIMA\", linestyle=\"--\")\n",
    "\n",
    "# PCMCI-ARIMAX\n",
    "plt.plot(test.index, pred_pcmci, label=\"PCMCI-ARIMAX\", linestyle=\"--\")\n",
    "\n",
    "# ALL-ARIMAX\n",
    "plt.plot(test.index, pred_all, label=\"ALL-ARIMAX\", linestyle=\"--\")\n",
    "\n",
    "plt.title(f\"Forecast vs Actual: {target}\")\n",
    "plt.xlabel(\"Date\")\n",
    "plt.ylabel(f\"{target}\")\n",
    "plt.legend()\n",
    "plt.tight_layout()\n",
    "plt.show()"
   ]
  }
 ],
 "metadata": {
  "kernelspec": {
   "display_name": ".venv",
   "language": "python",
   "name": "python3"
  },
  "language_info": {
   "codemirror_mode": {
    "name": "ipython",
    "version": 3
   },
   "file_extension": ".py",
   "mimetype": "text/x-python",
   "name": "python",
   "nbconvert_exporter": "python",
   "pygments_lexer": "ipython3",
   "version": "3.10.12"
  }
 },
 "nbformat": 4,
 "nbformat_minor": 5
}
